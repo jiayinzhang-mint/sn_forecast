{
  "cells": [
    {
      "cell_type": "code",
      "execution_count": 2,
      "metadata": {
        "id": "wb-Z7wNKUJko"
      },
      "outputs": [
        {
          "data": {
            "text/plain": [
              "<torch._C.Generator at 0x120348c30>"
            ]
          },
          "execution_count": 2,
          "metadata": {},
          "output_type": "execute_result"
        }
      ],
      "source": [
        "import random\n",
        "from pathlib import Path\n",
        "\n",
        "import numpy as np\n",
        "import torch\n",
        "from sklearn.metrics import (mean_absolute_percentage_error,\n",
        "                             root_mean_squared_error)\n",
        "\n",
        "from forecast import load_data, train, validate\n",
        "\n",
        "seed = 42\n",
        "np.random.seed(seed)\n",
        "random.seed(seed)\n",
        "torch.manual_seed(seed)"
      ]
    },
    {
      "cell_type": "code",
      "execution_count": 4,
      "metadata": {},
      "outputs": [
        {
          "name": "stderr",
          "output_type": "stream",
          "text": [
            "Loss: 0.002238830551505089: 100%|██████████| 40/40 [00:58<00:00,  1.47s/it] \n"
          ]
        }
      ],
      "source": [
        "(train_size, test_size, dataX, dataY, trainX, trainY, testX, testY) = load_data(\n",
        "    base_path=Path('./data/dfyj/key1_20240618_20240718'),\n",
        "    ip='8.27.105.214'\n",
        ")\n",
        "\n",
        "lstm = train(trainX=trainX, trainY=trainY, lr=5e-3)"
      ]
    },
    {
      "cell_type": "code",
      "execution_count": 5,
      "metadata": {
        "colab": {
          "base_uri": "https://localhost:8080/",
          "height": 294
        },
        "id": "CKEzO1jzKydL",
        "outputId": "08c40e0d-d1be-47d0-d222-71554dc7c29d"
      },
      "outputs": [
        {
          "name": "stdout",
          "output_type": "stream",
          "text": [
            "Test RMSE: 0.03299\n",
            "Test MAPE: 0.03123\n"
          ]
        }
      ],
      "source": [
        "lstm.eval()\n",
        "train_predict = lstm(dataX)\n",
        "\n",
        "data_predict = train_predict.data.numpy()\n",
        "dataY_plot = dataY.data.numpy()\n",
        "\n",
        "print('Test RMSE: %.5f' % root_mean_squared_error(dataY_plot, data_predict))\n",
        "print('Test MAPE: %.5f' %\n",
        "      mean_absolute_percentage_error(dataY_plot, data_predict))"
      ]
    },
    {
      "cell_type": "code",
      "execution_count": 6,
      "metadata": {},
      "outputs": [
        {
          "name": "stdout",
          "output_type": "stream",
          "text": [
            "MAPE: 0.04764589930359386\n",
            "RMSE: 0.05126456171274185\n"
          ]
        }
      ],
      "source": [
        "data_alt = load_data(\n",
        "    Path('./data/dfyj/key1_20240618_20240718'),\n",
        "    \"8.27.107.86\"\n",
        ")\n",
        "\n",
        "dataX_alt = data_alt[2]\n",
        "dataY_alt = data_alt[3]\n",
        "\n",
        "lstm.eval()\n",
        "validate(dataX_alt, dataY_alt, lstm)"
      ]
    },
    {
      "cell_type": "code",
      "execution_count": 7,
      "metadata": {},
      "outputs": [
        {
          "name": "stdout",
          "output_type": "stream",
          "text": [
            "MAPE: 0.0521653063613201\n",
            "RMSE: 0.05798456445336342\n"
          ]
        }
      ],
      "source": [
        "data_alt = load_data(\n",
        "    Path('./data/dfyj/key1_20240618_20240718'),\n",
        "    \"8.27.109.214\"\n",
        ")\n",
        "\n",
        "dataX_alt = data_alt[2]\n",
        "dataY_alt = data_alt[3]\n",
        "\n",
        "lstm.eval()\n",
        "validate(dataX_alt, dataY_alt, lstm)"
      ]
    },
    {
      "cell_type": "code",
      "execution_count": 8,
      "metadata": {},
      "outputs": [
        {
          "name": "stdout",
          "output_type": "stream",
          "text": [
            "MAPE: 5.616765790366039\n",
            "RMSE: 0.6999425292015076\n"
          ]
        }
      ],
      "source": [
        "data_alt = load_data(\n",
        "    Path('./data/dfyj/key1_20240618_20240718'),\n",
        "    \"8.29.41.86\"\n",
        ")\n",
        "\n",
        "dataX_alt = data_alt[2]\n",
        "dataY_alt = data_alt[3]\n",
        "\n",
        "lstm.eval()\n",
        "validate(dataX_alt, dataY_alt, lstm)"
      ]
    }
  ],
  "metadata": {
    "accelerator": "GPU",
    "colab": {
      "name": "Time Series Prediction with LSTM Using PyTorch",
      "provenance": []
    },
    "kernelspec": {
      "display_name": "Python 3",
      "name": "python3"
    },
    "language_info": {
      "codemirror_mode": {
        "name": "ipython",
        "version": 3
      },
      "file_extension": ".py",
      "mimetype": "text/x-python",
      "name": "python",
      "nbconvert_exporter": "python",
      "pygments_lexer": "ipython3",
      "version": "3.12.5"
    }
  },
  "nbformat": 4,
  "nbformat_minor": 0
}
