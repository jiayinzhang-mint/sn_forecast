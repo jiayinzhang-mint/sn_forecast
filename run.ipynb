{
 "cells": [
  {
   "cell_type": "code",
   "execution_count": 21,
   "metadata": {},
   "outputs": [],
   "source": [
    "import pandas as pd\n",
    "from forecast import predict, load_data, sliding_windows_predict\n",
    "from tsai.all import load_model, TCN\n",
    "from pathlib import Path\n",
    "import torch\n",
    "\n",
    "if torch.backends.mps.is_available():\n",
    "    device = torch.device('mps')\n",
    "elif torch.cuda.is_available():\n",
    "    device = torch.device('cuda')\n",
    "else:\n",
    "    device = torch.device('cpu')"
   ]
  },
  {
   "cell_type": "code",
   "execution_count": 22,
   "metadata": {},
   "outputs": [
    {
     "ename": "AttributeError",
     "evalue": "'collections.OrderedDict' object has no attribute 'get_X_preds'",
     "output_type": "error",
     "traceback": [
      "\u001b[0;31m---------------------------------------------------------------------------\u001b[0m",
      "\u001b[0;31mAttributeError\u001b[0m                            Traceback (most recent call last)",
      "Cell \u001b[0;32mIn[22], line 10\u001b[0m\n\u001b[1;32m      5\u001b[0m dataX_predict \u001b[38;5;241m=\u001b[39m dataX_predict\u001b[38;5;241m.\u001b[39mreshape(\n\u001b[1;32m      6\u001b[0m     dataX_predict\u001b[38;5;241m.\u001b[39mshape[\u001b[38;5;241m0\u001b[39m], \u001b[38;5;241m1\u001b[39m, dataX_predict\u001b[38;5;241m.\u001b[39mshape[\u001b[38;5;241m1\u001b[39m])\n\u001b[1;32m      8\u001b[0m learner \u001b[38;5;241m=\u001b[39m load_learner(\u001b[38;5;124m'\u001b[39m\u001b[38;5;124m./models/84.123*.pth\u001b[39m\u001b[38;5;124m'\u001b[39m, cpu\u001b[38;5;241m=\u001b[39m\u001b[38;5;28;01mFalse\u001b[39;00m)\n\u001b[0;32m---> 10\u001b[0m predictions \u001b[38;5;241m=\u001b[39m \u001b[43mpredict\u001b[49m\u001b[43m(\u001b[49m\u001b[43mdataX_predict\u001b[49m\u001b[43m,\u001b[49m\u001b[43m \u001b[49m\u001b[43mlearner\u001b[49m\u001b[43m,\u001b[49m\u001b[43m \u001b[49m\u001b[43msc\u001b[49m\u001b[43m)\u001b[49m\n",
      "File \u001b[0;32m/Volumes/Code/lab/forecast/forecast.py:178\u001b[0m, in \u001b[0;36mpredict\u001b[0;34m(dataX, model, sc)\u001b[0m\n\u001b[1;32m    175\u001b[0m     predictX\u001b[38;5;241m.\u001b[39mappend(data\u001b[38;5;241m.\u001b[39mnumpy()\u001b[38;5;241m.\u001b[39mtolist())\n\u001b[1;32m    177\u001b[0m predictX \u001b[38;5;241m=\u001b[39m torch\u001b[38;5;241m.\u001b[39mfrom_numpy(np\u001b[38;5;241m.\u001b[39marray(predictX))\n\u001b[0;32m--> 178\u001b[0m _, _, test_preds \u001b[38;5;241m=\u001b[39m \u001b[43mmodel\u001b[49m\u001b[38;5;241;43m.\u001b[39;49m\u001b[43mget_X_preds\u001b[49m(\n\u001b[1;32m    179\u001b[0m     predictX, with_decoded\u001b[38;5;241m=\u001b[39m\u001b[38;5;28;01mTrue\u001b[39;00m)\n\u001b[1;32m    181\u001b[0m \u001b[38;5;28;01mreturn\u001b[39;00m sc\u001b[38;5;241m.\u001b[39minverse_transform(test_preds)\u001b[38;5;241m.\u001b[39msqueeze()\n",
      "\u001b[0;31mAttributeError\u001b[0m: 'collections.OrderedDict' object has no attribute 'get_X_preds'"
     ]
    }
   ],
   "source": [
    "sc, data, _, _, _, _ = load_data(\n",
    "    base_path=Path('./data/dfyj'), ip='84.123.58.224', rolling=30, device=device)\n",
    "\n",
    "dataX_predict = torch.from_numpy(sliding_windows_predict(data))\n",
    "dataX_predict = dataX_predict.reshape(\n",
    "    dataX_predict.shape[0], 1, dataX_predict.shape[1])\n",
    "\n",
    "load_model('./models/84.123*.pth', TCN)\n",
    "\n",
    "predictions = predict(dataX_predict, learner, sc)"
   ]
  }
 ],
 "metadata": {
  "kernelspec": {
   "display_name": ".venv",
   "language": "python",
   "name": "python3"
  },
  "language_info": {
   "codemirror_mode": {
    "name": "ipython",
    "version": 3
   },
   "file_extension": ".py",
   "mimetype": "text/x-python",
   "name": "python",
   "nbconvert_exporter": "python",
   "pygments_lexer": "ipython3",
   "version": "3.12.5"
  }
 },
 "nbformat": 4,
 "nbformat_minor": 2
}
